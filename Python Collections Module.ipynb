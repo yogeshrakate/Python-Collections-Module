{
 "cells": [
  {
   "cell_type": "markdown",
   "id": "66145ea6",
   "metadata": {},
   "source": [
    "## Collections Module\n",
    "The collection Module in Python provides different types of containers. A Container is an object that is used to store different objects and provide a way to access the contained objects and iterate over them."
   ]
  },
  {
   "cell_type": "code",
   "execution_count": 11,
   "id": "762d886f",
   "metadata": {},
   "outputs": [],
   "source": [
    "# Importing collections module\n",
    "import collections"
   ]
  },
  {
   "cell_type": "markdown",
   "id": "02f6f784",
   "metadata": {},
   "source": [
    "### Table of Content\n",
    "- [ChainMap](#ChainMap)\n",
    "- [Counter](#Counter)\n",
    "- [deque](#deque)\n",
    "- [defaultdict](#defaultdict)\n",
    "- [namedtuple](#namedtuple)\n",
    "- [OrderedDict](#OrderedDict)\n",
    "- [UserDict](#UserDict)\n",
    "- [UserList](#UserList)\n",
    "- [UserString](#UserString)"
   ]
  },
  {
   "cell_type": "markdown",
   "id": "722ba9e4",
   "metadata": {},
   "source": [
    "### ChainMap\n",
    "A ChainMap encapsulates many dictionaries into a single unit and returns a list of dictionaries.\n",
    "<p style=\"background-color:#f1f1b1\">SYNTAX - class collections.ChainMap(dict1, dict2)</p>"
   ]
  },
  {
   "cell_type": "code",
   "execution_count": 12,
   "id": "3bcb9077",
   "metadata": {},
   "outputs": [
    {
     "name": "stdout",
     "output_type": "stream",
     "text": [
      "ChainMap({'a': 1, 'b': 2}, {'c': 3, 'd': 4}, {'e': 5, 'f': 6})\n",
      "List of ChainMap:  ['e', 'f', 'c', 'd', 'a', 'b']\n"
     ]
    }
   ],
   "source": [
    "d1 = {'a': 1, 'b': 2}\n",
    "d2 = {'c': 3, 'd': 4}\n",
    "d3 = {'e': 5, 'f': 6}\n",
    "\n",
    "# Defining the chainmap\n",
    "chmp = collections.ChainMap(d1, d2, d3)\n",
    "print(chmp)\n",
    "print(\"List of ChainMap: \", list(chmp)) # list of ChainMap comes in reversed order, i.e. last dict keys comes first"
   ]
  },
  {
   "cell_type": "code",
   "execution_count": 22,
   "id": "e4b98b50",
   "metadata": {},
   "outputs": [
    {
     "name": "stdout",
     "output_type": "stream",
     "text": [
      "Printing the chain : \n",
      "ChainMap({'a': 1, 'b': 2}, {'b': 3, 'c': 4})\n",
      "\n",
      "All the ChainMap contents are : \n",
      "[{'a': 1, 'b': 2}, {'b': 3, 'c': 4}]\n",
      "\n",
      "All keys of ChainMap are : \n",
      "KeysView(ChainMap({'a': 1, 'b': 2}, {'b': 3, 'c': 4}))\n",
      "['b', 'c', 'a']\n",
      "\n",
      "All values of ChainMap are : \n",
      "ValuesView(ChainMap({'a': 1, 'b': 2}, {'b': 3, 'c': 4}))\n",
      "[2, 4, 1]\n"
     ]
    }
   ],
   "source": [
    "# Access Operations on ChainMap\n",
    "d1 = { 'a' : 1, 'b' : 2 }\n",
    "d2 = { 'b' : 3, 'c' : 4 }\n",
    "\n",
    "# initializing ChainMap\n",
    "chain = collections.ChainMap(d1, d2)\n",
    "\n",
    "print(\"Printing the chain : \")\n",
    "print(chain)\n",
    "print()\n",
    "\n",
    "# printing chainMap using maps\n",
    "print(\"All the ChainMap contents are : \")\n",
    "print(chain.maps)\n",
    "print()\n",
    "\n",
    "# printing keys using keys()\n",
    "print(\"All keys of ChainMap are : \")\n",
    "print((chain.keys()))\n",
    "print(list(chain.keys()))\n",
    "print()\n",
    "\n",
    "# printing keys using keys()\n",
    "print(\"All values of ChainMap are : \")\n",
    "print(chain.values())\n",
    "print(list(chain.values()))"
   ]
  },
  {
   "cell_type": "code",
   "execution_count": 30,
   "id": "a0b96304",
   "metadata": {},
   "outputs": [
    {
     "name": "stdout",
     "output_type": "stream",
     "text": [
      "All the ChainMap contents of d1 and d2 dicts are : \n",
      "[{'a': 1, 'b': 2}, {'b': 3, 'c': 4}]\n",
      "\n",
      "Displaying new ChainMap after new_child : \n",
      "[{'f': 5}, {'a': 1, 'b': 2}, {'b': 3, 'c': 4}]\n",
      "\n",
      "Displaying ChainMap before reversing : \n",
      "[{'f': 5}, {'a': 1, 'b': 2}, {'b': 3, 'c': 4}]\n",
      "Value associated with b before reversing is : 2\n",
      "\n",
      "Displaying ChainMap after reversing : \n",
      "<list_reverseiterator object at 0x0000016B984A7D30>\n",
      "Value associated with b after reversing is : 3\n"
     ]
    }
   ],
   "source": [
    "# Manipulating Operations on ChainMap\n",
    "d1 = { 'a' : 1, 'b' : 2 }\n",
    "d2 = { 'b' : 3, 'c' : 4 }\n",
    "d3 = { 'f' : 5 }\n",
    "\n",
    "# initializing ChainMap\n",
    "chain = collections.ChainMap(d1, d2)\n",
    "\n",
    "# printing chainMap using map\n",
    "print(\"All the ChainMap contents of d1 and d2 dicts are : \")\n",
    "print(chain.maps)\n",
    "print()\n",
    "\n",
    "# using new_child() to add new dictionary\n",
    "chain1 = chain.new_child(d3)\n",
    "\n",
    "# printing chainMap using map\n",
    "print(\"Displaying new ChainMap after new_child : \")\n",
    "print(chain1.maps)\n",
    "print()\n",
    "\n",
    "# displaying value associated with b before reversing\n",
    "print(\"Displaying ChainMap before reversing : \")\n",
    "print(chain1.maps)\n",
    "print(\"Value associated with b before reversing is : \",end=\"\")\n",
    "print(chain1['b'])\n",
    "print()\n",
    "\n",
    "# reversing the ChainMap\n",
    "chain1.maps = reversed(chain1.maps)\n",
    "\n",
    "# displaying value associated with b after reversing\n",
    "print(\"Displaying ChainMap after reversing : \")\n",
    "print(chain1.maps)\n",
    "print(\"Value associated with b after reversing is : \",end=\"\")\n",
    "print(chain1['b'])"
   ]
  },
  {
   "cell_type": "code",
   "execution_count": 33,
   "id": "e060e888",
   "metadata": {},
   "outputs": [
    {
     "name": "stdout",
     "output_type": "stream",
     "text": [
      "ChainMap({'f': 5})\n"
     ]
    }
   ],
   "source": [
    "d1 = { 'a' : 1, 'b' : 2 }\n",
    "d2 = { 'f' : 5 }\n",
    "\n",
    "chain = collections.ChainMap(d1, d2)\n",
    "print(chain.parents)"
   ]
  },
  {
   "cell_type": "markdown",
   "id": "ae8c1112",
   "metadata": {},
   "source": [
    "[<p style=\"text-align:right\">[Back to curret topic]</p>](#ChainMap)\n",
    "[<p style=\"text-align:right\">[Back to top]</p>](#Collections-Module)"
   ]
  },
  {
   "cell_type": "markdown",
   "id": "0ff41c30",
   "metadata": {},
   "source": [
    "### Counter\n",
    "A Counter is a subclass of dict. Therefore it is an unordered collection where elements and their respective count are stored as a dictionary.\n",
    "<p style=\"background-color:#f1f1b1\">SYNTAX - class collections.Counter([iterable-or-mapping])</p>"
   ]
  },
  {
   "cell_type": "code",
   "execution_count": 39,
   "id": "1dfbe2cc",
   "metadata": {},
   "outputs": [
    {
     "name": "stdout",
     "output_type": "stream",
     "text": [
      "Counter({'B': 5, 'A': 3, 'C': 2})\n",
      "\n",
      "Counter({'B': 5, 'A': 3, 'C': 2})\n",
      "\n",
      "Counter({'B': 5, 'A': 3, 'C': 2})\n"
     ]
    }
   ],
   "source": [
    "# With sequence of items\n",
    "print(collections.Counter(['B','B','A','B','C','A','B','B','A','C']))\n",
    "print()\n",
    "# with dictionary\n",
    "print(collections.Counter({'A':3, 'B':5, 'C':2}))\n",
    "print()\n",
    "# with keyword arguments\n",
    "print(collections.Counter(A=3, B=5, C=2))"
   ]
  },
  {
   "cell_type": "code",
   "execution_count": 42,
   "id": "32ce5b80",
   "metadata": {},
   "outputs": [
    {
     "name": "stdout",
     "output_type": "stream",
     "text": [
      "Printing the original counter : \n",
      "Counter({1: 4, 2: 3, 3: 1})\n",
      "\n",
      "Counter after update : \n",
      "Counter({1: 5, 2: 4, 3: 1, 4: 1})\n"
     ]
    }
   ],
   "source": [
    "# Updation in counters\n",
    "\n",
    "ctr = collections.Counter([1, 2, 3, 1, 2, 1, 1, 2])\n",
    "print(\"Printing the original counter : \")\n",
    "print(ctr)\n",
    "print()\n",
    "\n",
    "ctr.update([1, 2, 4])\n",
    "print(\"Counter after update : \")\n",
    "print(ctr)"
   ]
  },
  {
   "cell_type": "code",
   "execution_count": 43,
   "id": "f8aca1ed",
   "metadata": {},
   "outputs": [
    {
     "name": "stdout",
     "output_type": "stream",
     "text": [
      "Counter({'C': 6, 'B': 0, 'A': -6})\n"
     ]
    }
   ],
   "source": [
    "# Subtraction of two Counters\n",
    "c1 = collections.Counter(A=4,  B=3, C=10)\n",
    "c2 = collections.Counter(A=10, B=3, C=4)\n",
    " \n",
    "c1.subtract(c2)\n",
    "print(c1)"
   ]
  },
  {
   "cell_type": "code",
   "execution_count": 44,
   "id": "07dcdc13",
   "metadata": {},
   "outputs": [
    {
     "name": "stdout",
     "output_type": "stream",
     "text": [
      "Counter({'c': 3, 'b': 2, 'a': 1})\n",
      "['a', 'b', 'b', 'c', 'c', 'c']\n"
     ]
    }
   ],
   "source": [
    "ctr = collections.Counter(a=1, b=2, c=3)\n",
    "print(ctr)\n",
    "  \n",
    "print(list(ctr.elements()))"
   ]
  },
  {
   "cell_type": "code",
   "execution_count": 49,
   "id": "448cad7c",
   "metadata": {},
   "outputs": [
    {
     "name": "stdout",
     "output_type": "stream",
     "text": [
      "[(' ', 17), ('e', 13), ('o', 9)]\n"
     ]
    }
   ],
   "source": [
    "txt = \"most_common() is used to produce a sequence of the n most frequently encountered input values and their counts.\"\n",
    "coun = collections.Counter(txt)\n",
    "  \n",
    "# This prints 3 most frequent characters\n",
    "print(coun.most_common(3))"
   ]
  },
  {
   "cell_type": "markdown",
   "id": "f53a6db4",
   "metadata": {},
   "source": [
    "[<p style=\"text-align:right\">[Back to curret topic]</p>](#Counter)\n",
    "[<p style=\"text-align:right\">[Back to top]</p>](#Collections-Module)"
   ]
  },
  {
   "cell_type": "markdown",
   "id": "16587966",
   "metadata": {},
   "source": [
    "### deque\n",
    "Deque (Doubly Ended Queue) is the optimized list for quicker append and pop operations from both sides of the container."
   ]
  },
  {
   "cell_type": "code",
   "execution_count": null,
   "id": "b6689ced",
   "metadata": {},
   "outputs": [],
   "source": []
  },
  {
   "cell_type": "code",
   "execution_count": null,
   "id": "2ade4b78",
   "metadata": {},
   "outputs": [],
   "source": []
  },
  {
   "cell_type": "code",
   "execution_count": null,
   "id": "131cd89b",
   "metadata": {},
   "outputs": [],
   "source": []
  },
  {
   "cell_type": "markdown",
   "id": "51e6e006",
   "metadata": {},
   "source": [
    "### UserString"
   ]
  },
  {
   "cell_type": "markdown",
   "id": "536d1086",
   "metadata": {},
   "source": [
    "[<p style=\"text-align:right\">[Back to curret topic]</p>](#UserString)\n",
    "[<p style=\"text-align:right\">[Back to top]</p>](#Collections-Module)"
   ]
  },
  {
   "cell_type": "code",
   "execution_count": null,
   "id": "717495f4",
   "metadata": {},
   "outputs": [],
   "source": []
  }
 ],
 "metadata": {
  "kernelspec": {
   "display_name": "Python 3 (ipykernel)",
   "language": "python",
   "name": "python3"
  },
  "language_info": {
   "codemirror_mode": {
    "name": "ipython",
    "version": 3
   },
   "file_extension": ".py",
   "mimetype": "text/x-python",
   "name": "python",
   "nbconvert_exporter": "python",
   "pygments_lexer": "ipython3",
   "version": "3.11.3"
  }
 },
 "nbformat": 4,
 "nbformat_minor": 5
}
